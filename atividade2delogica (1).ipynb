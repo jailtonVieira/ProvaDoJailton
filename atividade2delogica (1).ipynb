{
  "nbformat": 4,
  "nbformat_minor": 0,
  "metadata": {
    "colab": {
      "provenance": []
    },
    "kernelspec": {
      "name": "python3",
      "display_name": "Python 3"
    },
    "language_info": {
      "name": "python"
    }
  },
  "cells": [
    {
      "cell_type": "code",
      "source": [
        "#1 questão\n",
        "a = int(input(\"qual valor da A:\"))\n",
        "b = int(input(\"qual valor de B:\"))\n",
        "c = int(input(\"qual valor de C:\"))\n",
        "\n",
        "soma = a + b\n",
        "\n",
        "if soma < c:\n",
        "  print(soma , \"menor\" , c)\n",
        "else :\n",
        "  print (soma , \"maior\" , c)1"
      ],
      "metadata": {
        "id": "V9B-NMN5pqJA"
      },
      "execution_count": null,
      "outputs": []
    },
    {
      "cell_type": "code",
      "source": [
        "#2 queatão\n",
        "valor = int(input(\"qual seu numero:\"))\n",
        "\n",
        "if valor > 0:\n",
        "  print(\"seu numero é positivo\", valor)\n",
        "else :\n",
        "  print(\"seu numero é negativo\", valor)\n",
        "\n",
        "if valor %2 == 0:\n",
        "  print(\"seu numero é par \" , valor)\n",
        "else :\n",
        "  print(\"seu valor é impar \" , valor)"
      ],
      "metadata": {
        "id": "iMtj4fAnr2AN"
      },
      "execution_count": null,
      "outputs": []
    },
    {
      "cell_type": "code",
      "source": [
        "#3 questão\n",
        "\n",
        "a = int(input(\"valor de A:\"))\n",
        "b = int(input(\"valor de B:\"))\n",
        "\n",
        "if a == b:\n",
        " c = a + b\n",
        "else :\n",
        "  c = a * b\n",
        "\n",
        "print(\"valor é \" , c )\n"
      ],
      "metadata": {
        "id": "jjq3H1CotTXl",
        "colab": {
          "base_uri": "https://localhost:8080/"
        },
        "outputId": "1a7f841c-d3e1-4348-b0b4-ad6a06bce79b"
      },
      "execution_count": 21,
      "outputs": [
        {
          "output_type": "stream",
          "name": "stdout",
          "text": [
            "valor de A:2\n",
            "valor de B:3\n",
            "valor é  6\n"
          ]
        }
      ]
    },
    {
      "cell_type": "code",
      "source": [
        "#4\n",
        "a = int(input(\"qual valor:\"))\n",
        "b = a - 1\n",
        "c = a + 1\n",
        "\n",
        "print(\"seu valor\" , b , a , c)"
      ],
      "metadata": {
        "id": "u2i_A04Ttfah"
      },
      "execution_count": null,
      "outputs": []
    },
    {
      "cell_type": "code",
      "source": [
        "#5\n",
        "\n",
        "salariou = float(input(\"qual o seu usuario:\"))\n",
        "salariom = 1.51800\n",
        "\n",
        "qsalario = salariou / salariom\n",
        "\n",
        "print(f\"voce recebe {qsalario:.2f} minimo\")"
      ],
      "metadata": {
        "id": "HAOsoUlU0tIE",
        "colab": {
          "base_uri": "https://localhost:8080/"
        },
        "outputId": "6359c33e-178c-4167-8209-182606083907"
      },
      "execution_count": 25,
      "outputs": [
        {
          "output_type": "stream",
          "name": "stdout",
          "text": [
            "qual o seu usuario:2.12200\n",
            "voce recebe 1.40 minimo\n"
          ]
        }
      ]
    },
    {
      "cell_type": "code",
      "source": [
        "#6 não sei se estar certa\n",
        "a = float(input(\"qual valor:\"))\n",
        "\n",
        "b = a + 1.05\n",
        "\n",
        "print(\"aqui a soma\" , b)"
      ],
      "metadata": {
        "id": "pEn-WBh2uSxy"
      },
      "execution_count": null,
      "outputs": []
    },
    {
      "cell_type": "code",
      "source": [
        "#7\n",
        "a = int(input(\"seu numero:\"))\n",
        "b = int(input(\"seu numero:\"))\n",
        "\n",
        "c = bool(a)\n",
        "d = bool(b)\n",
        "\n",
        "if c and d:\n",
        "  print(\"os dois são verdadeiros\")\n",
        "elif c and not d:\n",
        "  print(\"os dois são falsos\")\n",
        "else :\n",
        "  print(\"os dois são diferentes\")"
      ],
      "metadata": {
        "id": "FzOEH53n0wy1"
      },
      "execution_count": null,
      "outputs": []
    },
    {
      "cell_type": "code",
      "source": [
        "\n",
        "#8\n",
        "a = int(input(\"seu numero:\"))\n",
        "b = int(input(\"seu numero:\"))\n",
        "c = int(input(\"seu numero:\"))\n",
        "\n",
        "numeros = [a,b,c]\n",
        "numeros.sort(reverse=True)\n",
        "\n",
        "print(numeros)\n",
        "\n"
      ],
      "metadata": {
        "id": "W0_YZVyckh77"
      },
      "execution_count": null,
      "outputs": []
    },
    {
      "cell_type": "code",
      "source": [
        "#9\n",
        "\n",
        "peso = float(input(\"seu peso:\"))\n",
        "altura = float(input(\"sua altura:\"))\n",
        "\n",
        "def imc (peso , altura):\n",
        "  return peso / (altura ** 2)\n",
        "\n",
        "cal = imc(peso , altura)\n",
        "\n",
        "if cal < 18.5:\n",
        "  print(\"abaixo do peso\")\n",
        "elif 18.6 <= cal < 24.9:\n",
        "  print(\"peso ideal,parabens\")\n",
        "elif 25.0 <= cal < 29.9:\n",
        "  print(\"levemente acima do peso\")\n",
        "elif 30.0 <= cal < 34.9:\n",
        "  print(\"obesidade de grau I\")\n",
        "elif 35.0 <= cal < 39.9:\n",
        "  print(\"obesidade de grau II\")\n",
        "elif cal >= 40.0:\n",
        "  print(\"obesidade de grau III\")\n",
        "\n",
        "\n",
        "\n"
      ],
      "metadata": {
        "id": "ZZavP1fppCuE"
      },
      "execution_count": null,
      "outputs": []
    },
    {
      "cell_type": "code",
      "source": [
        "#10\n",
        "\n",
        "n1 = int(input(\"qual a nota:\"))\n",
        "n2 = int(input(\"qual a nota:\"))\n",
        "n3 = int(input(\"qual a nota:\"))\n",
        "\n",
        "def soma(n1 , n2 ,n3):\n",
        "  return (n1 + n2 + n3) / 3\n",
        "\n",
        "reposta = soma(n1 , n2 , n3)\n",
        "\n",
        "print(reposta)"
      ],
      "metadata": {
        "id": "8ZPpJrF71awK"
      },
      "execution_count": null,
      "outputs": []
    },
    {
      "cell_type": "code",
      "source": [
        "#11\n",
        "\n",
        "nome = str(input(\"qual o seu nome:\"))\n",
        "nota1 = int(input(\"qual a nota:\"))\n",
        "nota2 = int(input(\"qual a nota:\"))\n",
        "nota3 = int(input(\"qual a nota:\"))\n",
        "nota4 = int(input(\"qual a nota:\"))\n",
        "\n",
        "def soma(nota1 , nota2 , nota3 , nota4):\n",
        "  return (nota1 + nota2 + nota3 + nota4) / 4\n",
        "\n",
        "media = soma(nota1 , nota2 , nota3 , nota4)\n",
        "\n",
        "if media >= 7:\n",
        "  print(\"voce foi aprovado\" , nome , \"com a nota de \" , media)\n",
        "else :\n",
        "  print(\"voce foi reprovado\" , nome , \"com a nota de \" , media)"
      ],
      "metadata": {
        "id": "1pGr6aB1Es2C"
      },
      "execution_count": null,
      "outputs": []
    },
    {
      "cell_type": "code",
      "source": [
        "#12\n",
        "\n",
        "pp = float(input(\"qual o valor da sua compra:\"))\n",
        "\n",
        "print(\"para a sua forma de pagamento\")\n",
        "print(\"pix ou a dinheiro digite 1\")\n",
        "print(\"cartão de credito digite 2\")\n",
        "print(\"parcelas de 2 vezes digite 3\")\n",
        "print(\"parcelas de 3 ou superior digite 4\")\n",
        "\n",
        "forma = int(input(\"qual a sua forma de pagamento:\"))\n",
        "\n",
        "if forma == 1:\n",
        "  valor = pp - (pp * 0.15)\n",
        "elif forma == 2:\n",
        "  valor = pp - (pp * 0.10)\n",
        "elif forma == 3:\n",
        "  valor = pp\n",
        "elif forma == 4:\n",
        "  valor = pp + (pp * 0.10)\n",
        "\n",
        "print(f\"o valor da sua compra ficou {valor:.2f}\")\n"
      ],
      "metadata": {
        "id": "OZ9XQabG2Ce5"
      },
      "execution_count": null,
      "outputs": []
    },
    {
      "cell_type": "code",
      "source": [
        "#13\n",
        "\n",
        "nome = str(input(\"qual o seu nome:\"))\n",
        "idade = int(input(\"qual a sua idade:\"))\n",
        "\n",
        "if idade >= 18:\n",
        "  print(nome , \"voce é maior de idade \" , idade)\n",
        "else :\n",
        "  print(nome , \"voce é menor de idade \" , idade)"
      ],
      "metadata": {
        "id": "t8mS0-rovOOD"
      },
      "execution_count": null,
      "outputs": []
    },
    {
      "cell_type": "code",
      "source": [
        "#14\n",
        "\n",
        "a = int(input(\"valor de A:\"))\n",
        "b = int(input(\"valor de B:\"))\n",
        "\n",
        "a , b = b , a\n",
        "\n",
        "print(a ,  \" e \" ,  b)\n"
      ],
      "metadata": {
        "id": "ZtATdC3PwgdW"
      },
      "execution_count": null,
      "outputs": []
    },
    {
      "cell_type": "code",
      "source": [
        "#15\n",
        "\n",
        "# Importa a biblioteca para obter o ano atual\n",
        "from datetime import datetime\n",
        "\n",
        "# Solicita ao usuário o ano de nascimento\n",
        "ano_nascimento = int(input(\"Digite o ano em que você nasceu: \"))\n",
        "\n",
        "# Obtém o ano atual\n",
        "ano_atual = datetime.now().year\n",
        "\n",
        "# Calcula o total de anos, meses e dias vividos\n",
        "anos_vividos = ano_atual - ano_nascimento\n",
        "meses_vividos = anos_vividos * 12\n",
        "dias_vividos = anos_vividos * 365\n",
        "\n",
        "# Exibe o resultado formatado\n",
        "print(f\"Você já viveu aproximadamente {anos_vividos} anos, {meses_vividos} meses e {dias_vividos} dias.\")\n"
      ],
      "metadata": {
        "id": "Kg7qvd7C1jC1",
        "colab": {
          "base_uri": "https://localhost:8080/"
        },
        "outputId": "aa7f3c5a-ac47-4173-9f1f-0cb17c3c08d7"
      },
      "execution_count": 26,
      "outputs": [
        {
          "output_type": "stream",
          "name": "stdout",
          "text": [
            "Digite o ano em que você nasceu: 2006\n",
            "Você já viveu aproximadamente 19 anos, 228 meses e 6935 dias.\n"
          ]
        }
      ]
    },
    {
      "cell_type": "code",
      "source": [
        "#16\n",
        "\n",
        "lado1 = int(input(\"angulo A:\"))\n",
        "lado2 = int(input(\"angulo B:\"))\n",
        "lado3 = int(input(\"angulo C:\"))\n",
        "\n",
        "if lado1 == lado2 == lado3:\n",
        "  print(\"triangulo equilatero\")\n",
        "elif lado1 == lado2 or lado2 == lado3 or lado1 == lado3:\n",
        "  print(\"triamgulo isósceles\")\n",
        "else :\n",
        "  print(\"triangulo escaleno\")"
      ],
      "metadata": {
        "id": "LPo2f8ot3F3m"
      },
      "execution_count": null,
      "outputs": []
    },
    {
      "cell_type": "code",
      "source": [
        "#17\n",
        "\n",
        "f = float(input(\"qual a temperatura em Fahrenheit:\"))\n",
        "\n",
        "def soma(f):\n",
        "  return  (5 * ( f -32 ) / 9)\n",
        "\n",
        "c = int(soma(f))\n",
        "\n",
        "print(f ,\"Fahrenheit equivale \" , c , \"de graus celsius\")"
      ],
      "metadata": {
        "colab": {
          "base_uri": "https://localhost:8080/"
        },
        "id": "CWTzNsgP5ois",
        "outputId": "5d348643-ed6d-41af-fb72-be6b0a355eb2"
      },
      "execution_count": 13,
      "outputs": [
        {
          "output_type": "stream",
          "name": "stdout",
          "text": [
            "qual a temperatura em Fahrenheit:34\n",
            "34.0 Fahrenheit equivale  1 de graus celsius\n"
          ]
        }
      ]
    },
    {
      "cell_type": "code",
      "source": [
        "#18\n",
        "\n",
        "ano = int(input(\"tempo:\"))\n",
        "af = 1,50\n",
        "asa = 1,10\n",
        "\n",
        "def altura1(af,ano):\n",
        "  return (ano** 0,2) + af\n",
        "\n",
        "ff = altura1\n",
        "\n",
        "def altura2(asa,ano):\n",
        "  return (ano** 0,3) + asa\n",
        "\n",
        "ss = altura2\n",
        "\n",
        "print(\"a tempo sera de \" , ano , \"para a altura de sara superar a altura de francisco\")\n",
        "print(\"altura inicial de sara \" , asa , \"depois\" , ss)\n",
        "print(\"alturs inicisl de francisco \" , af , \"depois \" , ff)"
      ],
      "metadata": {
        "id": "uytovY877x9R"
      },
      "execution_count": null,
      "outputs": []
    },
    {
      "cell_type": "code",
      "source": [
        "#18\n",
        "\n",
        "# Definição das alturas iniciais\n",
        "altura_francisco = 1.50  # metros\n",
        "altura_sara = 1.10  # metros\n",
        "\n",
        "# Taxa de crescimento anual\n",
        "crescimento_francisco = 0.02  # metros por ano\n",
        "crescimento_sara = 0.03  # metros por ano\n",
        "\n",
        "# Inicializa contador de anos\n",
        "anos = 0\n",
        "\n",
        "# Loop até que Sara seja mais alta que Francisco\n",
        "while altura_sara <= altura_francisco:\n",
        "    altura_sara += crescimento_sara\n",
        "    altura_francisco += crescimento_francisco\n",
        "    anos += 1\n",
        "\n",
        "# Exibe o resultado\n",
        "print(f\"Serão necessários {anos} anos para que Sara seja mais alta que Francisco.\")\n",
        "\n"
      ],
      "metadata": {
        "id": "L7Acn8X1DOjy"
      },
      "execution_count": null,
      "outputs": []
    },
    {
      "cell_type": "code",
      "source": [
        "#19\n",
        "\n",
        "# Loop de 1 até 10 para gerar a tabuada\n",
        "for i in range(1, 11):\n",
        "    print(f\"\\nTabuada do {i}:\")  # Exibe qual tabuada está sendo impressa\n",
        "    for j in range(1, 11):\n",
        "        print(f\"{i} x {j} = {i * j}\")  # Calcula e exibe o resultado da multiplicação\n",
        "\n",
        "\n"
      ],
      "metadata": {
        "id": "oHpMvBKQDhj_"
      },
      "execution_count": null,
      "outputs": []
    },
    {
      "cell_type": "code",
      "source": [
        "#20\n",
        "\n",
        "a = int(input(\"qual o numero para a tabuada:\"))\n",
        "\n",
        "a1 = a * 1\n",
        "a2 = a * 2\n",
        "a3 = a * 3\n",
        "a4 = a * 4\n",
        "a5 = a * 5\n",
        "a6 = a * 6\n",
        "a7 = a * 7\n",
        "a8 = a * 8\n",
        "a9 = a * 9\n",
        "a0 = a * 10\n",
        "\n",
        "print(a, \"x 1\" ,a1)\n",
        "print(a, \"x 2\" ,a2)\n",
        "print(a, \"x 3\" ,a3)\n",
        "print(a, \"x 4\" ,a4)\n",
        "print(a, \"x 5\" ,a5)\n",
        "print(a, \"x 6\" ,a6)\n",
        "print(a, \"x 7\" ,a7)\n",
        "print(a, \"x 8\" ,a8)\n",
        "print(a, \"x 9\" ,a9)\n",
        "print(a, \"x 10\" ,a0)"
      ],
      "metadata": {
        "id": "bM2HSsbmksBD"
      },
      "execution_count": null,
      "outputs": []
    }
  ]
}