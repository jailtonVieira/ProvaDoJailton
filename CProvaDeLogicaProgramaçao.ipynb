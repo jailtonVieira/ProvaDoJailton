{
  "nbformat": 4,
  "nbformat_minor": 0,
  "metadata": {
    "colab": {
      "provenance": [],
      "authorship_tag": "ABX9TyNirae9VioeKWis5Kzrkzit",
      "include_colab_link": true
    },
    "kernelspec": {
      "name": "python3",
      "display_name": "Python 3"
    },
    "language_info": {
      "name": "python"
    }
  },
  "cells": [
    {
      "cell_type": "markdown",
      "metadata": {
        "id": "view-in-github",
        "colab_type": "text"
      },
      "source": [
        "<a href=\"https://colab.research.google.com/github/jailtonVieira/ProvaDoJailton/blob/main/CProvaDeLogicaPrograma%C3%A7ao.ipynb\" target=\"_parent\"><img src=\"https://colab.research.google.com/assets/colab-badge.svg\" alt=\"Open In Colab\"/></a>"
      ]
    },
    {
      "cell_type": "code",
      "source": [
        "#1 questão\n",
        "n = int(input(\"valor\"))\n",
        "n1 = sorted(str(n))\n",
        "print(n1)"
      ],
      "metadata": {
        "id": "RCCRXQN4cPQ-"
      },
      "execution_count": null,
      "outputs": []
    },
    {
      "cell_type": "code",
      "execution_count": null,
      "metadata": {
        "id": "Nc3yDQSTZ1St"
      },
      "outputs": [],
      "source": [
        "#2 questão\n",
        "numero = int(input(\"valor\"))\n",
        "soma = numero + 1\n",
        "for i in range(soma):\n",
        "  print(i)"
      ]
    },
    {
      "cell_type": "code",
      "source": [
        "#3 questão\n",
        "nome = str(input(\"qual o seu nome?\"))\n",
        "print(\"seja bem vindo\" , nome)"
      ],
      "metadata": {
        "id": "VewIsmIgc6q3"
      },
      "execution_count": null,
      "outputs": []
    },
    {
      "cell_type": "code",
      "source": [
        "#4 questão\n",
        "valor = int(input(\"descubra se seu numero é primo?\"))\n",
        "#aqui vai todos os numeros primos\n",
        "if valor in [2 , 3 , 5 , 7 , 11 , 13 , 17 , 19 , 23 , 29 , 31 , 37 , 41 , 43 , 47 , 53 , 59 , 61 , 67, 71 , 73 , 79 , 83 , 89 , 97]:\n",
        "  print(\"seu valor é primo\" , valor )\n",
        "else :\n",
        "  print(\"seu numero não é primo\" , valor)"
      ],
      "metadata": {
        "id": "VkVZfMj4dWSm"
      },
      "execution_count": null,
      "outputs": []
    },
    {
      "cell_type": "code",
      "source": [
        "#6 questão\n",
        "valor = str(input(\"coloque a sua palavra \"))\n",
        "contrario = valor[::-1]\n",
        "print(\"aqui estar \" , contrario)"
      ],
      "metadata": {
        "id": "Cu76H5_qfn4J"
      },
      "execution_count": null,
      "outputs": []
    },
    {
      "cell_type": "code",
      "source": [
        "#7 questão\n",
        "palavra1 = (input(\"qual a string?\"))\n",
        "caracter1 =(input(\"qual vai ser substituido?\"))\n",
        "caracter2 =(input(\"vai ser o substituto\"))\n",
        "palavra2 = palavra1.replace(caracter1 , caracter2)\n",
        "\n",
        "print(palavra2)"
      ],
      "metadata": {
        "id": "jCvIdqu1gG1Z"
      },
      "execution_count": null,
      "outputs": []
    },
    {
      "cell_type": "code",
      "source": [
        "#8 questão\n",
        "palavra = input(\"escreva uma palavra aqui\")\n",
        "letra = input(\"essa letra exite na palavra\")\n",
        "achado = palavra.find(letra)\n",
        "print( achado)"
      ],
      "metadata": {
        "id": "LiZvja44gxVq"
      },
      "execution_count": null,
      "outputs": []
    },
    {
      "cell_type": "code",
      "source": [
        "#10 questão\n",
        "nuber = int(input(\"qual o numero?\"))\n",
        "\n",
        "contrario = int(str(nuber)[::-1])\n",
        "ordem = sorted(str(nuber))\n",
        "\n",
        "print(\"aqui vai  sair o contrario\" , contrario)\n",
        "print(\"aqui em ordem crescente\" , ordem)"
      ],
      "metadata": {
        "id": "MdPZTSN0g9LR"
      },
      "execution_count": null,
      "outputs": []
    },
    {
      "cell_type": "code",
      "source": [
        "#5 questão\n",
        "alunos = int(input(\"total de alunos\"))\n",
        "notas = list(map(int, input(\"valor das notas\").split()))\n",
        "ordem = sorted(str(notas))\n",
        "print(alunos)\n",
        "print(ordem)"
      ],
      "metadata": {
        "id": "VWRazXoVpYl7"
      },
      "execution_count": null,
      "outputs": []
    },
    {
      "cell_type": "code",
      "source": [
        "#9 questão\n",
        "x = int(input(\"valor\"))\n",
        "y = int(input(\"valor\"))\n",
        "\n",
        "x1 = min(x, y)\n",
        "y1 = max(x, y)\n",
        "\n",
        "for numero in range(x1 + 1, y1):\n",
        "    if numero % 5 == 2 or numero % 5 == 3:\n",
        "        print(numero)"
      ],
      "metadata": {
        "id": "FByrDHVBp6va"
      },
      "execution_count": null,
      "outputs": []
    }
  ]
}